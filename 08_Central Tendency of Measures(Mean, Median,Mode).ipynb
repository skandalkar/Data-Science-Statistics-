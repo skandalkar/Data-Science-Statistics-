{
 "cells": [
  {
   "cell_type": "code",
   "execution_count": 1,
   "id": "88f4bda4-bfc5-4844-92ec-7fd57b99b09e",
   "metadata": {},
   "outputs": [],
   "source": [
    "#Practical no. : 08"
   ]
  },
  {
   "cell_type": "code",
   "execution_count": 3,
   "id": "b668de5c-3f4a-4eac-a4e8-2aa8c37a885c",
   "metadata": {},
   "outputs": [],
   "source": [
    "#Aim : To find Central Tendancy of measures (Mean, Median, Mode)"
   ]
  },
  {
   "cell_type": "code",
   "execution_count": 5,
   "id": "5754b2af-0348-40f5-8ac5-4ede9055a32a",
   "metadata": {},
   "outputs": [],
   "source": [
    "#Name : Santosh G. Kandalkar\n",
    "#Roll no. : 74 (DS-B74)\n",
    "#Section : B\n",
    "#Subject : PE-I\n",
    "#Date : 09/09/24"
   ]
  },
  {
   "cell_type": "code",
   "execution_count": 7,
   "id": "1a7fb41e-c98c-4a73-8fca-1a81c9414f61",
   "metadata": {},
   "outputs": [],
   "source": [
    "age=[20,22,21,23,25,26,22,20,22,21,23,25,26,22,20,22,21,23,25,26,22]"
   ]
  },
  {
   "cell_type": "code",
   "execution_count": 9,
   "id": "b570c91c-050b-43b9-bbb4-87275d8edb28",
   "metadata": {},
   "outputs": [
    {
     "data": {
      "text/plain": [
       "[20,\n",
       " 22,\n",
       " 21,\n",
       " 23,\n",
       " 25,\n",
       " 26,\n",
       " 22,\n",
       " 20,\n",
       " 22,\n",
       " 21,\n",
       " 23,\n",
       " 25,\n",
       " 26,\n",
       " 22,\n",
       " 20,\n",
       " 22,\n",
       " 21,\n",
       " 23,\n",
       " 25,\n",
       " 26,\n",
       " 22]"
      ]
     },
     "execution_count": 9,
     "metadata": {},
     "output_type": "execute_result"
    }
   ],
   "source": [
    "age"
   ]
  },
  {
   "cell_type": "code",
   "execution_count": 13,
   "id": "c59a18bc-c8de-40a6-8aaf-cfdfae90c888",
   "metadata": {},
   "outputs": [],
   "source": [
    "import statistics as st"
   ]
  },
  {
   "cell_type": "code",
   "execution_count": 17,
   "id": "e2a48ace-a47f-41af-bd9f-d0f5973894c2",
   "metadata": {},
   "outputs": [],
   "source": [
    "Mean=st.mean(age)"
   ]
  },
  {
   "cell_type": "code",
   "execution_count": 19,
   "id": "4197571d-d50b-4c8b-8156-787176a496a8",
   "metadata": {},
   "outputs": [
    {
     "data": {
      "text/plain": [
       "22.714285714285715"
      ]
     },
     "execution_count": 19,
     "metadata": {},
     "output_type": "execute_result"
    }
   ],
   "source": [
    "Mean"
   ]
  },
  {
   "cell_type": "code",
   "execution_count": 21,
   "id": "494c9d01-e576-4e2a-bd0d-de6afe6a44c2",
   "metadata": {},
   "outputs": [],
   "source": [
    "Median=st.median(age)"
   ]
  },
  {
   "cell_type": "code",
   "execution_count": 23,
   "id": "4d6c679f-1faf-482b-82da-53999829e255",
   "metadata": {},
   "outputs": [
    {
     "data": {
      "text/plain": [
       "22"
      ]
     },
     "execution_count": 23,
     "metadata": {},
     "output_type": "execute_result"
    }
   ],
   "source": [
    "Median"
   ]
  },
  {
   "cell_type": "code",
   "execution_count": 25,
   "id": "b611d93e-9f4c-42bf-a7a0-41e8a539a040",
   "metadata": {},
   "outputs": [],
   "source": [
    "Mode=st.mode(age)"
   ]
  },
  {
   "cell_type": "code",
   "execution_count": 27,
   "id": "7ba29e54-cbde-4a96-8ecd-9296400276e3",
   "metadata": {},
   "outputs": [
    {
     "data": {
      "text/plain": [
       "22"
      ]
     },
     "execution_count": 27,
     "metadata": {},
     "output_type": "execute_result"
    }
   ],
   "source": [
    "Mode"
   ]
  },
  {
   "cell_type": "code",
   "execution_count": null,
   "id": "a762a5c7-a5fd-4871-b1f8-8aee28414ce3",
   "metadata": {},
   "outputs": [],
   "source": []
  }
 ],
 "metadata": {
  "kernelspec": {
   "display_name": "Python 3 (ipykernel)",
   "language": "python",
   "name": "python3"
  },
  "language_info": {
   "codemirror_mode": {
    "name": "ipython",
    "version": 3
   },
   "file_extension": ".py",
   "mimetype": "text/x-python",
   "name": "python",
   "nbconvert_exporter": "python",
   "pygments_lexer": "ipython3",
   "version": "3.12.4"
  }
 },
 "nbformat": 4,
 "nbformat_minor": 5
}
