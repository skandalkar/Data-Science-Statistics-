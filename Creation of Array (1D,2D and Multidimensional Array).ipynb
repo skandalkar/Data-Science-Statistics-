{
 "cells": [
  {
   "cell_type": "code",
   "execution_count": 1,
   "id": "78706930-8379-4c5e-9cfb-2463b70cb3fb",
   "metadata": {},
   "outputs": [],
   "source": [
    "#Practical no. : 05"
   ]
  },
  {
   "cell_type": "code",
   "execution_count": 3,
   "id": "c0e5692e-96c0-4eb8-a0b6-e3a293694ca0",
   "metadata": {},
   "outputs": [],
   "source": [
    "#Aim : Creation Of Array (1D,2D and Multidimensional Array) using numpy"
   ]
  },
  {
   "cell_type": "code",
   "execution_count": 5,
   "id": "c909f1d4-69ec-442a-af9a-187e1ad7f4e1",
   "metadata": {},
   "outputs": [],
   "source": [
    "#Name : Santosh G. Kandalkar\n",
    "#Roll no. : 74 (DS-B74)\n",
    "#Section : B\n",
    "#Subject : PE-I\n",
    "#Date : 03/08/24"
   ]
  },
  {
   "cell_type": "code",
   "execution_count": 7,
   "id": "0f887412-6e3a-4f00-ba19-c5c895bfb0bb",
   "metadata": {},
   "outputs": [],
   "source": [
    "import numpy as np"
   ]
  },
  {
   "cell_type": "code",
   "execution_count": 9,
   "id": "9bbf52b5-650c-47c6-967b-cc7420a50777",
   "metadata": {},
   "outputs": [],
   "source": [
    "arr1=np.array([10,20,30,40,50])"
   ]
  },
  {
   "cell_type": "code",
   "execution_count": 11,
   "id": "6ce7e25e-6711-4fac-af5d-bdabf31de437",
   "metadata": {},
   "outputs": [
    {
     "data": {
      "text/plain": [
       "array([10, 20, 30, 40, 50])"
      ]
     },
     "execution_count": 11,
     "metadata": {},
     "output_type": "execute_result"
    }
   ],
   "source": [
    "arr1"
   ]
  },
  {
   "cell_type": "code",
   "execution_count": 13,
   "id": "bc80e423-27f6-4fa8-bc2f-ac3e3dfcd45c",
   "metadata": {},
   "outputs": [],
   "source": [
    "arr2=np.array([[[10,20,30,40,50],[60,70,80,90,100]]])"
   ]
  },
  {
   "cell_type": "code",
   "execution_count": 15,
   "id": "2531d99a-8ec3-4691-86fe-b6c1b6812902",
   "metadata": {},
   "outputs": [
    {
     "data": {
      "text/plain": [
       "array([[[ 10,  20,  30,  40,  50],\n",
       "        [ 60,  70,  80,  90, 100]]])"
      ]
     },
     "execution_count": 15,
     "metadata": {},
     "output_type": "execute_result"
    }
   ],
   "source": [
    "arr2"
   ]
  },
  {
   "cell_type": "code",
   "execution_count": 17,
   "id": "9c243c10-9f39-4f0b-abfe-aa769f7e4ecf",
   "metadata": {},
   "outputs": [],
   "source": [
    "arr3=np.array([[10,20,30,40,50],[60,70,80,90,100],[15,25,35,45,55]])"
   ]
  },
  {
   "cell_type": "code",
   "execution_count": 19,
   "id": "11441dbd-e552-4940-8520-42c4cbced2da",
   "metadata": {},
   "outputs": [
    {
     "data": {
      "text/plain": [
       "array([[ 10,  20,  30,  40,  50],\n",
       "       [ 60,  70,  80,  90, 100],\n",
       "       [ 15,  25,  35,  45,  55]])"
      ]
     },
     "execution_count": 19,
     "metadata": {},
     "output_type": "execute_result"
    }
   ],
   "source": [
    "arr3"
   ]
  },
  {
   "cell_type": "code",
   "execution_count": null,
   "id": "160609ed-268d-4c9d-b75b-29d6b09e393b",
   "metadata": {},
   "outputs": [],
   "source": []
  }
 ],
 "metadata": {
  "kernelspec": {
   "display_name": "Python 3 (ipykernel)",
   "language": "python",
   "name": "python3"
  },
  "language_info": {
   "codemirror_mode": {
    "name": "ipython",
    "version": 3
   },
   "file_extension": ".py",
   "mimetype": "text/x-python",
   "name": "python",
   "nbconvert_exporter": "python",
   "pygments_lexer": "ipython3",
   "version": "3.12.4"
  }
 },
 "nbformat": 4,
 "nbformat_minor": 5
}
